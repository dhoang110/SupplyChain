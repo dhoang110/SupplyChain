{
 "cells": [
  {
   "cell_type": "code",
   "execution_count": 32,
   "metadata": {},
   "outputs": [],
   "source": [
    "#retrieve and store in a list of url_ending. For example: [egcu.org,libertyfirstcu.com, etc]\n",
    "#loop through this list to have a consolidated \"soup\" and get 2 separated files: details & reviews of all companies\n",
    "#connect to Postgre using Psycopg and store as tables there\n",
    "#set up cron job & automated scraping for new reviews daily, then append them to the table. "
   ]
  },
  {
   "cell_type": "code",
   "execution_count": 33,
   "metadata": {},
   "outputs": [],
   "source": [
    "import requests \n",
    "from bs4 import BeautifulSoup \n",
    "\n",
    "atm_url = 'https://www.trustpilot.com/categories/atm'\n",
    "\n",
    "BASE_URL = \"https://www.trustpilot.com\""
   ]
  },
  {
   "cell_type": "code",
   "execution_count": 34,
   "metadata": {},
   "outputs": [],
   "source": [
    "#function for html parser\n",
    "def get_soup(url):\n",
    "    response = requests.get(url)\n",
    "    return BeautifulSoup(response.content, \"html.parser\")"
   ]
  },
  {
   "cell_type": "code",
   "execution_count": 35,
   "metadata": {},
   "outputs": [],
   "source": [
    "soup = get_soup(atm_url)"
   ]
  },
  {
   "cell_type": "code",
   "execution_count": 36,
   "metadata": {},
   "outputs": [],
   "source": [
    "#function to scrap all the URLs of business page\n",
    "\n",
    "def get_company_urls(soup_response):\n",
    "    company_urls = []\n",
    "    for a in soup.select(\"a[name='business-unit-card']\"):\n",
    "        url_subdirectory = a.attrs.get(\"href\")\n",
    "        company_urls.append(BASE_URL+url_subdirectory)\n",
    "    return company_urls"
   ]
  },
  {
   "cell_type": "code",
   "execution_count": 37,
   "metadata": {},
   "outputs": [],
   "source": [
    "#function to get the link of the next page button and scrap content on next page\n",
    "def get_next_page_url(soup_response):\n",
    "    return soup.select(\"a[name='pagination-button-next']\")[0].attrs.get(\"href\")"
   ]
  },
  {
   "cell_type": "code",
   "execution_count": 38,
   "metadata": {},
   "outputs": [],
   "source": [
    "#scrap the list of company URLs\n",
    "company_urls = []\n",
    "\n",
    "while soup:\n",
    "    company_urls.extend(get_company_urls(soup))\n",
    "    next_page = get_next_page_url(soup)\n",
    "    if next_page:\n",
    "        soup = get_soup(BASE_URL+next_page)\n",
    "    else:\n",
    "        soup = None"
   ]
  },
  {
   "cell_type": "code",
   "execution_count": 44,
   "metadata": {},
   "outputs": [
    {
     "name": "stdout",
     "output_type": "stream",
     "text": [
      "22\n"
     ]
    },
    {
     "data": {
      "text/plain": [
       "['https://www.trustpilot.com/review/egcu.org',\n",
       " 'https://www.trustpilot.com/review/libertyfirstcu.com',\n",
       " 'https://www.trustpilot.com/review/cryptodispensers.com',\n",
       " 'https://www.trustpilot.com/review/swadesh.co',\n",
       " 'https://www.trustpilot.com/review/heritagevalleyfcu.org',\n",
       " 'https://www.trustpilot.com/review/thepaymenthq.com',\n",
       " 'https://www.trustpilot.com/review/vtsymorwvyj7k29pndy4jsc60x6oud.burpcollaborator.net',\n",
       " 'https://www.trustpilot.com/review/kryptominerstech.com',\n",
       " 'https://www.trustpilot.com/review/wpc.services',\n",
       " 'https://www.trustpilot.com/review/meriwest.com',\n",
       " 'https://www.trustpilot.com/review/slide2thrive.com',\n",
       " 'https://www.trustpilot.com/review/northone.com',\n",
       " 'https://www.trustpilot.com/review/cryptobaseatm.com',\n",
       " 'https://www.trustpilot.com/review/coinhubatm.com',\n",
       " 'https://www.trustpilot.com/review/cashexpressllc.com',\n",
       " 'https://www.trustpilot.com/review/asicminersrig.com',\n",
       " 'https://www.trustpilot.com/review/asicminertech.com',\n",
       " 'https://www.trustpilot.com/review/www.coin.cloud',\n",
       " 'https://www.trustpilot.com/review/pnc.com',\n",
       " 'https://www.trustpilot.com/review/koinkryptatm.com',\n",
       " 'https://www.trustpilot.com/review/acmeatm.cash',\n",
       " 'https://www.trustpilot.com/review/koinkryptatm.com']"
      ]
     },
     "execution_count": 44,
     "metadata": {},
     "output_type": "execute_result"
    }
   ],
   "source": [
    "print(len(company_urls))\n",
    "company_urls"
   ]
  },
  {
   "cell_type": "code",
   "execution_count": 45,
   "metadata": {},
   "outputs": [
    {
     "name": "stdout",
     "output_type": "stream",
     "text": [
      "21\n"
     ]
    },
    {
     "data": {
      "text/plain": [
       "{'https://www.trustpilot.com/review/acmeatm.cash',\n",
       " 'https://www.trustpilot.com/review/asicminersrig.com',\n",
       " 'https://www.trustpilot.com/review/asicminertech.com',\n",
       " 'https://www.trustpilot.com/review/cashexpressllc.com',\n",
       " 'https://www.trustpilot.com/review/coinhubatm.com',\n",
       " 'https://www.trustpilot.com/review/cryptobaseatm.com',\n",
       " 'https://www.trustpilot.com/review/cryptodispensers.com',\n",
       " 'https://www.trustpilot.com/review/egcu.org',\n",
       " 'https://www.trustpilot.com/review/heritagevalleyfcu.org',\n",
       " 'https://www.trustpilot.com/review/koinkryptatm.com',\n",
       " 'https://www.trustpilot.com/review/kryptominerstech.com',\n",
       " 'https://www.trustpilot.com/review/libertyfirstcu.com',\n",
       " 'https://www.trustpilot.com/review/meriwest.com',\n",
       " 'https://www.trustpilot.com/review/northone.com',\n",
       " 'https://www.trustpilot.com/review/pnc.com',\n",
       " 'https://www.trustpilot.com/review/slide2thrive.com',\n",
       " 'https://www.trustpilot.com/review/swadesh.co',\n",
       " 'https://www.trustpilot.com/review/thepaymenthq.com',\n",
       " 'https://www.trustpilot.com/review/vtsymorwvyj7k29pndy4jsc60x6oud.burpcollaborator.net',\n",
       " 'https://www.trustpilot.com/review/wpc.services',\n",
       " 'https://www.trustpilot.com/review/www.coin.cloud'}"
      ]
     },
     "execution_count": 45,
     "metadata": {},
     "output_type": "execute_result"
    }
   ],
   "source": [
    "#remove duplicates in the URL list if any\n",
    "\n",
    "deduplicated_company_urls = set(company_urls)\n",
    "\n",
    "print(len(deduplicated_company_urls))\n",
    "\n",
    "deduplicated_company_urls"
   ]
  },
  {
   "cell_type": "code",
   "execution_count": 42,
   "metadata": {},
   "outputs": [
    {
     "ename": "NameError",
     "evalue": "name 'list_urls' is not defined",
     "output_type": "error",
     "traceback": [
      "\u001b[0;31m---------------------------------------------------------------------------\u001b[0m",
      "\u001b[0;31mNameError\u001b[0m                                 Traceback (most recent call last)",
      "Cell \u001b[0;32mIn[42], line 1\u001b[0m\n\u001b[0;32m----> 1\u001b[0m \u001b[39mfor\u001b[39;00m url \u001b[39min\u001b[39;00m list_urls:\n\u001b[1;32m      2\u001b[0m     subpage_url \u001b[39m=\u001b[39m \u001b[39m'\u001b[39m\u001b[39mhttps://www.trustpilot.com/\u001b[39m\u001b[39m'\u001b[39m\u001b[39m+\u001b[39murl\n\u001b[1;32m      3\u001b[0m     response \u001b[39m=\u001b[39m requests\u001b[39m.\u001b[39mget(subpage_url)\n",
      "\u001b[0;31mNameError\u001b[0m: name 'list_urls' is not defined"
     ]
    }
   ],
   "source": [
    "\n",
    "\n",
    "for url in list_urls:\n",
    "    subpage_url = 'https://www.trustpilot.com/'+url\n",
    "    response = requests.get(subpage_url)\n",
    "    soup = BeautifulSoup(response.content, \"html.parser\")\n",
    "    company_name = soup.find('span', attrs = {'class': \"typography_display-s__qOjh6 typography_appearance-default__AAY17 title_displayName__TtDDM\"}).text\n",
    "    print(company_name)"
   ]
  }
 ],
 "metadata": {
  "kernelspec": {
   "display_name": "base",
   "language": "python",
   "name": "python3"
  },
  "language_info": {
   "codemirror_mode": {
    "name": "ipython",
    "version": 3
   },
   "file_extension": ".py",
   "mimetype": "text/x-python",
   "name": "python",
   "nbconvert_exporter": "python",
   "pygments_lexer": "ipython3",
   "version": "3.10.11"
  },
  "orig_nbformat": 4
 },
 "nbformat": 4,
 "nbformat_minor": 2
}
