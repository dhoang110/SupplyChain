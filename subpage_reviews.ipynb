{
 "cells": [
  {
   "cell_type": "code",
   "execution_count": 1,
   "metadata": {},
   "outputs": [],
   "source": [
    "#retrieve and store in a list of url_ending. For example: [egcu.org,libertyfirstcu.com, etc]\n",
    "#loop through this list to have a consolidated \"soup\" and get 2 separated files: details & reviews of all companies\n",
    "#connect to Postgre using Psycopg and store as tables there\n",
    "#set up cron job & automated scraping for new reviews daily, then append them to the table. "
   ]
  },
  {
   "cell_type": "code",
   "execution_count": 2,
   "metadata": {},
   "outputs": [],
   "source": [
    "import requests \n",
    "from bs4 import BeautifulSoup \n",
    "\n",
    "atm_url = 'https://www.trustpilot.com/categories/atm'\n",
    "\n",
    "BASE_URL = \"https://www.trustpilot.com\""
   ]
  },
  {
   "cell_type": "code",
   "execution_count": 3,
   "metadata": {},
   "outputs": [],
   "source": [
    "#function for html parser\n",
    "def get_soup(url):\n",
    "    response = requests.get(url)\n",
    "    return BeautifulSoup(response.content, \"html.parser\")"
   ]
  },
  {
   "cell_type": "code",
   "execution_count": 4,
   "metadata": {},
   "outputs": [],
   "source": [
    "soup = get_soup(atm_url)"
   ]
  },
  {
   "cell_type": "code",
   "execution_count": 5,
   "metadata": {},
   "outputs": [],
   "source": [
    "#function to scrap all the URLs of business page\n",
    "\n",
    "def get_company_urls(soup_response):\n",
    "    company_urls = []\n",
    "    for a in soup.select(\"a[name='business-unit-card']\"):\n",
    "        url_subdirectory = a.attrs.get(\"href\")\n",
    "        company_urls.append(BASE_URL+url_subdirectory)\n",
    "    return company_urls"
   ]
  },
  {
   "cell_type": "code",
   "execution_count": 6,
   "metadata": {},
   "outputs": [],
   "source": [
    "#function to get the link of the next page button and scrap content on next page\n",
    "def get_next_page_url(soup_response):\n",
    "    return soup.select(\"a[name='pagination-button-next']\")[0].attrs.get(\"href\")"
   ]
  },
  {
   "cell_type": "code",
   "execution_count": 7,
   "metadata": {},
   "outputs": [],
   "source": [
    "#scrap the list of company URLs\n",
    "company_urls = []\n",
    "\n",
    "while soup:\n",
    "    company_urls.extend(get_company_urls(soup))\n",
    "    next_page = get_next_page_url(soup)\n",
    "    if next_page:\n",
    "        soup = get_soup(BASE_URL+next_page)\n",
    "    else:\n",
    "        soup = None"
   ]
  },
  {
   "cell_type": "code",
   "execution_count": 8,
   "metadata": {},
   "outputs": [
    {
     "data": {
      "text/plain": [
       "{'https://www.trustpilot.com/review/acmeatm.cash',\n",
       " 'https://www.trustpilot.com/review/asicminersrig.com',\n",
       " 'https://www.trustpilot.com/review/asicminertech.com',\n",
       " 'https://www.trustpilot.com/review/cashexpressllc.com',\n",
       " 'https://www.trustpilot.com/review/coinhubatm.com',\n",
       " 'https://www.trustpilot.com/review/cryptobaseatm.com',\n",
       " 'https://www.trustpilot.com/review/cryptodispensers.com',\n",
       " 'https://www.trustpilot.com/review/egcu.org',\n",
       " 'https://www.trustpilot.com/review/heritagevalleyfcu.org',\n",
       " 'https://www.trustpilot.com/review/koinkryptatm.com',\n",
       " 'https://www.trustpilot.com/review/kryptominerstech.com',\n",
       " 'https://www.trustpilot.com/review/libertyfirstcu.com',\n",
       " 'https://www.trustpilot.com/review/meriwest.com',\n",
       " 'https://www.trustpilot.com/review/northone.com',\n",
       " 'https://www.trustpilot.com/review/pnc.com',\n",
       " 'https://www.trustpilot.com/review/slide2thrive.com',\n",
       " 'https://www.trustpilot.com/review/swadesh.co',\n",
       " 'https://www.trustpilot.com/review/thepaymenthq.com',\n",
       " 'https://www.trustpilot.com/review/vtsymorwvyj7k29pndy4jsc60x6oud.burpcollaborator.net',\n",
       " 'https://www.trustpilot.com/review/wpc.services',\n",
       " 'https://www.trustpilot.com/review/www.coin.cloud'}"
      ]
     },
     "execution_count": 8,
     "metadata": {},
     "output_type": "execute_result"
    }
   ],
   "source": [
    "#remove duplicates in the URL list if any\n",
    "\n",
    "deduplicated_company_urls = set(company_urls)\n",
    "deduplicated_company_urls"
   ]
  },
  {
   "cell_type": "code",
   "execution_count": 9,
   "metadata": {},
   "outputs": [],
   "source": [
    "import pandas as pd"
   ]
  },
  {
   "cell_type": "code",
   "execution_count": 15,
   "metadata": {},
   "outputs": [],
   "source": [
    "def parse_company_data(sub_soup):\n",
    "    review_data = []\n",
    "    name = sub_soup.find('span', attrs={'class': 'typography_display-s__qOjh6 typography_appearance-default__AAY17 title_displayName__TtDDM'}).text.strip()\n",
    "    review_stars = sub_soup.find_all('div', attrs={'class': 'star-rating_starRating__4rrcf star-rating_medium__iN6Ty'})\n",
    "    stars = [stars.find('img')['alt'].replace('Rated ', '').replace(' stars', '') for stars in review_stars]\n",
    "    review_dates = sub_soup.find('time', attrs={'class': '', 'data-service-review-date-time-ago': 'true'})\n",
    "    review_title = sub_soup.find('h2', attrs={'class': 'typography_heading-s__f7029 typography_appearance-default__AAY17'})\n",
    "    reviewer_name = sub_soup.find('span', attrs={'class': 'typography_heading-xxs__QKBS8 typography_appearance-default__AAY17'})\n",
    "    review_text = sub_soup.find('p', attrs={'class': 'typography_body-l__KUYFJ typography_appearance-default__AAY17 typography_color-black__5LYEn'})\n",
    "    experience_date = sub_soup.find('p', attrs={'class': 'typography_body-m__xgxZ_ typography_appearance-default__AAY17'})\n",
    "    review_reply_text = sub_soup.find('p', attrs={'class': 'typography_body-m__xgxZ_ typography_appearance-default__AAY17 styles_message__shHhX'})\n",
    "    reply_date = sub_soup.find('time', attrs={'class': 'typography_body-m__xgxZ_ typography_appearance-subtle__8_H2l styles_replyDate__Iem0_'})\n",
    "    star = stars[0] if stars else None\n",
    "    title = review_title.text.strip() if review_title else None\n",
    "    reviewer = reviewer_name.text.strip() if reviewer_name else None\n",
    "    text = review_text.text.strip() if review_text else None\n",
    "    experience = experience_date.text.split(':')[-1].strip() if experience_date else None\n",
    "    review_date = review_dates.get('datetime').split('T')[0].strip() if review_dates else None\n",
    "    reply_date = reply_date.text.strip() if reply_date else None\n",
    "    reply_text = review_reply_text.text.strip() if review_reply_text else None\n",
    "    review_data.append([name, star, title, reviewer, text, experience, review_date, reply_date, reply_text])\n",
    "    return review_data"
   ]
  },
  {
   "cell_type": "code",
   "execution_count": 16,
   "metadata": {},
   "outputs": [],
   "source": [
    "reviews_data = []\n",
    "for company_url in deduplicated_company_urls:\n",
    "    company_page = get_soup(company_url)\n",
    "    reviews_data.append(parse_company_data(company_page))"
   ]
  },
  {
   "cell_type": "code",
   "execution_count": 17,
   "metadata": {},
   "outputs": [
    {
     "data": {
      "text/plain": [
       "[[['PNC Bank',\n",
       "   'TrustScore 1.5 out of 5',\n",
       "   'PNC bank Monroe NON-EXISTENT CUSTOMER SERVICE',\n",
       "   'Marcia Wassner Menaker',\n",
       "   'PNC bank Monroe, NJ is worse than bad!! Minus customer service!! Had to change my account because of fraudulent activity. Got my new card. Customer service unable to activate it, returned it to be to try!! UI was unable to activate it AND NO ONE WOULD HELP!!',\n",
       "   'July 10, 2023',\n",
       "   '2023-07-18',\n",
       "   None,\n",
       "   None]],\n",
       " [['Kryptominerstech',\n",
       "   'TrustScore 3.5 out of 5',\n",
       "   'Express delivery as stipulated on the…',\n",
       "   'Mark George',\n",
       "   'Express delivery as stipulated on the website is as accurate as it is written. My KD5 was  delivered in perfect condition with the promised Graphic cards. If I hadn’t ordered a few others from another provider I definitely would’ve gotten more from these guys. Now I can continue my minning journey.',\n",
       "   'December 10, 2021',\n",
       "   '2021-12-10',\n",
       "   None,\n",
       "   None]],\n",
       " [['Heritage Valley Federal Credit Union',\n",
       "   'TrustScore 4 out of 5',\n",
       "   'Heritage has been amazing',\n",
       "   'Bill Stahl',\n",
       "   'Heritage has been amazing,  I live an hour from any office and still will not use anyone but Heritage Valley,  I know if I need anything, I can call and get nothing less than professional yet family like assistance,  Heritage has helped me with everything from my home mortgage to the purchase of my automobile. Thanks',\n",
       "   'September 08, 2021',\n",
       "   '2021-09-08',\n",
       "   'Sep 8, 2021',\n",
       "   \"Bill, thank you for your review, and expressing your satisfaction with our call center. We're glad that we can help you with your mortgage and auto loan too!\"]],\n",
       " [['ASDFTEST',\n",
       "   'TrustScore 3.5 out of 5',\n",
       "   'time for __proto__.asdf',\n",
       "   'asdf',\n",
       "   'time for __proto__.asdf bh',\n",
       "   'November 24, 2022',\n",
       "   '2023-01-24',\n",
       "   None,\n",
       "   None]],\n",
       " [['Coinhub Bitcoin ATM',\n",
       "   'TrustScore 3 out of 5',\n",
       "   '25% fees not documented anywhere',\n",
       "   'Don Buford',\n",
       "   '25% fees not documented anywhere.  Avoid at ALL costs.  Will never use this ATM company again.',\n",
       "   'July 09, 2023',\n",
       "   '2023-07-10',\n",
       "   None,\n",
       "   None]],\n",
       " [['Crypto Dispensers',\n",
       "   'TrustScore 2.5 out of 5',\n",
       "   'Do NOT trust on trust pilot..',\n",
       "   'Van Mekhi',\n",
       "   'Do NOT trust on trust pilot... I submitted a review and after long time they asking me to give \"documentary\" proof and they removed my review !! Cryptodispensers placed an indefinite ban on my account after which they denied my refund. I got all they stole back through.ALDWYCHSECURITIESwhich i eventually received what was due to me. their well-organized strategy for reclaiming me out.',\n",
       "   'May 24, 2023',\n",
       "   '2023-07-19',\n",
       "   'Nov 17, 2022',\n",
       "   \"We're so happy to have you as a customer, and we appreciate your kind words! We're committed to making the process of buying and selling cryptocurrencies as easy as possible, and we're glad that we could help make things a little easier for you. Thank you for recommending us to your friends, and we hope they'll give us a try too!\"]],\n",
       " [['cryptobaseatm.com',\n",
       "   'TrustScore 3 out of 5',\n",
       "   'Dwight welding is a bitchhhh asss rep…',\n",
       "   'Dwight welding pussie',\n",
       "   'Dwight welding is a bitchhhh asss rep who couldn’t help unlock my acct 4405145893 this fuks charge 20$ off every 100$ thieves',\n",
       "   'June 08, 2023',\n",
       "   '2023-06-08',\n",
       "   None,\n",
       "   None]],\n",
       " [['Asicminertech',\n",
       "   'TrustScore 2 out of 5',\n",
       "   'I only barely escaped with my money…',\n",
       "   'George john',\n",
       "   'I only barely escaped with my money because of glóbalfundrètrival company. They come across as extremely professional. There are some very good reviews on various UK sites but they\\'re a total scam. They pretend to help you invest in crypto and show you the results of your deposits and profits on their fake webpage prime-coin.info. Whatever you put in will not come back out even if you pay the 20% \"withdrawal\" fee that the fake Blockchain advises is for regulatory purposes.',\n",
       "   'January 04, 2023',\n",
       "   '2023-01-06',\n",
       "   None,\n",
       "   None]],\n",
       " [['WPC Merchant Services & Credit Card Processing',\n",
       "   'TrustScore 3.5 out of 5',\n",
       "   'I have above 10 years exprince both…',\n",
       "   'Alex Haile',\n",
       "   'I have above 10 years exprince both commericial bank and abyssinia bank In order to adress all customer using cardeless opration only by right hand thumb or by eye and avaible for all with out asking permission to customer',\n",
       "   'September 17, 2022',\n",
       "   '2023-05-17',\n",
       "   None,\n",
       "   None]],\n",
       " [['Meriwest Credit Union',\n",
       "   'TrustScore 3.5 out of 5',\n",
       "   'As a client of Meriwest Credit Union',\n",
       "   'Udgin',\n",
       "   'As a client of Meriwest Credit Union, I am thoroughly impressed with their overall services. The staff is consistently engaging, professional, and ready to help, which makes for a very positive communication experience.Their credit terms are transparent and easy to understand. This was particularly beneficial when I was looking to finance my automobile purchase. The terms were advantageous, offering great value and fitting well with my financial planning.In summary, Meriwest Credit Union offers not only top-notch service, but also advantageous credit conditions. My experience financing my car through them was seamless and stress-free. I wholeheartedly recommend Meriwest for anyone in need of financial services.',\n",
       "   'July 02, 2023',\n",
       "   '2023-07-04',\n",
       "   None,\n",
       "   None]],\n",
       " [['Coin Cloud',\n",
       "   'TrustScore 2 out of 5',\n",
       "   'Scam Scam Scam 😡',\n",
       "   'Blackwood',\n",
       "   'Scam Scam Scam 😡, don\\'t send money to this platform, they are scammers they held my money weeks ($5700) until \"assetsplus . biz \" helped me recovered everything, I\\'m grateful to them.',\n",
       "   'July 06, 2023',\n",
       "   '2023-07-21',\n",
       "   'Jan 13, 2023',\n",
       "   \"Raymond, We appreciate your feedback but regret your experience did not meet the positive experience we are committed to providing our customers. We'd love the opportunity to keep you as a customer. If you have given us $20,000+ of your business you can qualify for our Private Client Desk that is a customized over-the-counter (OTC) trade for individuals using wire transfer. Our Private Client Desk offers several benefits such as low competitive fees compared to our kiosk, a VIP Account Manager who you can call, text, or email directly, and a wider variety of digital currencies to choose from! For more information please visit https://www.coin.cloud/private-client or email privateclient@coin.cloud\"]],\n",
       " [['Asic Miners Rig',\n",
       "   'TrustScore 2.5 out of 5',\n",
       "   'AsicMinersRig is a SCAM',\n",
       "   'Anthony Dickens',\n",
       "   'This company is a SCAM.  I paid for a miner.  They sent a confiramation and then a fake shipping company TransGlobalExpress-US sent me a notice that I needed to pay $1,300 additional, from which $1,000 is refundable.  No bill to pay, just an overseas linked phone number that demanded that I pay this money.When asked for a refund, they said NO.  Pure SCAM.',\n",
       "   'February 22, 2022',\n",
       "   '2022-02-22',\n",
       "   'Updated Jan 6, 2022',\n",
       "   \"This is a malicious and unsupported claim. We do accept only Wire and Cryptocurrency payments. Isn't a problem for other clients. If you're right, please provide your order number and proof of payment!Thank you\"]],\n",
       " [['Cash Express',\n",
       "   'TrustScore 3 out of 5',\n",
       "   'Good for saving money',\n",
       "   'THA KAKNEKA. Pss',\n",
       "   \"This daniel hayslip this my account won't cops to arest them ronda hayslip Ben actavatinug cards Alisa hayslip fload all rapinig mesinug kids and angi\",\n",
       "   'May 21, 2023',\n",
       "   '2023-05-22',\n",
       "   None,\n",
       "   None]],\n",
       " [['Evergreen Credit Union',\n",
       "   'TrustScore 5 out of 5',\n",
       "   'Loan Process Experience',\n",
       "   'Robert Libby',\n",
       "   'The loan process was smooth and simple. Happy Alexander was excellent during the whole process. She kept me informed and updated during the entire loan process. While assisting me, she had a pleasant and friendly attitude.',\n",
       "   'July 19, 2023',\n",
       "   '2023-07-21',\n",
       "   '5 hours ago',\n",
       "   \"Hi Robert,Thank you for sharing your experience with us! Congratulations on your successful loan. We're glad Happy was able to help you with ease and efficiency.Best,Emma P.Evergreen Credit Union\"]],\n",
       " [['The Payment HQ',\n",
       "   'TrustScore 4 out of 5',\n",
       "   'Payment HQ is the best Merchant…',\n",
       "   'Aqua Fix Water Store',\n",
       "   'Payment HQ is the best Merchant Services out there!, not only are they local my rep Cesar always goes above and beyond to help my business with support (never switching). Even the supporting reps at Payment HQ are always willing help. The level of treatment and care I receive I can not even being to explain. I truly found a company that cares about my business needs and doesn’t treat me like a number. If you are needing or just looking for a new merchant you must to contact Payment HQ and ask for Cesar!',\n",
       "   'January 02, 2023',\n",
       "   '2023-07-07',\n",
       "   'Jul 8, 2023',\n",
       "   \"Thank you for sharing your positive feedback! We strive to exceed our customers expectations with a high level of service and care when we are trusted to be your payments provider. Hearing from you let's us know that our training and vision is being honored with our team members.Cesar is one of our top guys and you are in great hands working with him. We are glad to have you as a valued customer and look forward to supporting you in the years to come.The Payment HQ Team\"]],\n",
       " [['Koinkryptatm',\n",
       "   'TrustScore 0 out of 5',\n",
       "   None,\n",
       "   None,\n",
       "   None,\n",
       "   'Anyone can write a Trustpilot review. People who write reviews have ownership to edit or delete them at any time, and they’ll be displayed as long as an account is active.',\n",
       "   None,\n",
       "   None,\n",
       "   None]],\n",
       " [['Slide2Thrive',\n",
       "   'TrustScore 3.5 out of 5',\n",
       "   None,\n",
       "   None,\n",
       "   None,\n",
       "   'Anyone can write a Trustpilot review. People who write reviews have ownership to edit or delete them at any time, and they’ll be displayed as long as an account is active.',\n",
       "   None,\n",
       "   None,\n",
       "   None]],\n",
       " [['NorthOne',\n",
       "   'TrustScore 3 out of 5',\n",
       "   'You have been warned; You may wake up one day to a locked & inactive Bank account',\n",
       "   'Objective One',\n",
       "   'I opened my account in 2021 easy and simple put over 30k in. Now that I\\'m needing to withdraw money  and spend out of my account , my account is being locked \"questioned\" if the expenses  are directly related to the business. I am having to get permission to use funds as I see fit. I only use my debit card. I purchased a protypes from wig manufactures but received a message from the bank to provide the nature and relation to my business and how do they relate to me conducting business. They are requesting my itinerary for a conference, and are asking to audit my business. If invoices, current vendors, itinerary and how I conduct business are not turned emailed in 4 days my account will be locked out indef. This bank has continuously for multiple reasons played inside of my account, change my physical cards to virtual only, turn off the ability to make purchases/payments utilizing account & routing number. Its so many vague problems/flags now occurring. I have tried to move my money in the last 2-3 days but as I stated I keep being met with options that do not require me being able to physically get my money. Today is 7/15/23 I have a wire that I sent to myself to my other bank & I sent myself a deposit if I am unable to receive those funds just like the other reviewers for any reason, I will up date my review. If you take your time and search the company (North one reviews, North one scams) you will see how this bank as the potential to be dangerous and all of the victims who are not able to receive their money. You will never speak to CS, and if they close your account that means you are no longer  their customer so you only have access to emailing some one. You have been warned',\n",
       "   'June 12, 2023',\n",
       "   '2023-07-15',\n",
       "   'Jul 5, 2023',\n",
       "   'Thanks for this 5-star review, Divine! We appreciate your feedback regarding debit card deposits. While this feature is currently unavailable, please contact our Support Team via in-app chat. We would love to go over alternate deposit methods that best fit your needs.Thanks for choosing NorthOne, Divine!']],\n",
       " [['Acme ATM',\n",
       "   'TrustScore 0 out of 5',\n",
       "   None,\n",
       "   None,\n",
       "   None,\n",
       "   'Anyone can write a Trustpilot review. People who write reviews have ownership to edit or delete them at any time, and they’ll be displayed as long as an account is active.',\n",
       "   None,\n",
       "   None,\n",
       "   None]],\n",
       " [['Liberty First Credit Union',\n",
       "   'TrustScore 5 out of 5',\n",
       "   'They were amazing',\n",
       "   'Laura Splittgerber',\n",
       "   'They were amazing, I never thought I would ever own my own home but they worked very hard and quickly to make sure that I would. Tyler and his team stayed in contact with me the whole time and made sure I understood everything. Great job and thank you again so very much',\n",
       "   'July 11, 2023',\n",
       "   '2023-07-15',\n",
       "   '4 days ago',\n",
       "   'We are so happy that Tyler could help! Happy to have you a member of Liberty First!']],\n",
       " [['Swadesh',\n",
       "   'TrustScore 4.5 out of 5',\n",
       "   'Swadesh is a good app safely and truly…',\n",
       "   'Hamza masood',\n",
       "   'Swadesh is a good app safely and truly app this app is a expensive earning for you thanks.',\n",
       "   'July 16, 2023',\n",
       "   '2023-07-18',\n",
       "   None,\n",
       "   None]]]"
      ]
     },
     "execution_count": 17,
     "metadata": {},
     "output_type": "execute_result"
    }
   ],
   "source": [
    "reviews_data"
   ]
  },
  {
   "cell_type": "code",
   "execution_count": 13,
   "metadata": {},
   "outputs": [
    {
     "ename": "ValueError",
     "evalue": "9 columns passed, passed data had 1 columns",
     "output_type": "error",
     "traceback": [
      "\u001b[0;31m---------------------------------------------------------------------------\u001b[0m",
      "\u001b[0;31mAssertionError\u001b[0m                            Traceback (most recent call last)",
      "File \u001b[0;32m~/anaconda3/lib/python3.10/site-packages/pandas/core/internals/construction.py:969\u001b[0m, in \u001b[0;36m_finalize_columns_and_data\u001b[0;34m(content, columns, dtype)\u001b[0m\n\u001b[1;32m    968\u001b[0m \u001b[39mtry\u001b[39;00m:\n\u001b[0;32m--> 969\u001b[0m     columns \u001b[39m=\u001b[39m _validate_or_indexify_columns(contents, columns)\n\u001b[1;32m    970\u001b[0m \u001b[39mexcept\u001b[39;00m \u001b[39mAssertionError\u001b[39;00m \u001b[39mas\u001b[39;00m err:\n\u001b[1;32m    971\u001b[0m     \u001b[39m# GH#26429 do not raise user-facing AssertionError\u001b[39;00m\n",
      "File \u001b[0;32m~/anaconda3/lib/python3.10/site-packages/pandas/core/internals/construction.py:1017\u001b[0m, in \u001b[0;36m_validate_or_indexify_columns\u001b[0;34m(content, columns)\u001b[0m\n\u001b[1;32m   1015\u001b[0m \u001b[39mif\u001b[39;00m \u001b[39mnot\u001b[39;00m is_mi_list \u001b[39mand\u001b[39;00m \u001b[39mlen\u001b[39m(columns) \u001b[39m!=\u001b[39m \u001b[39mlen\u001b[39m(content):  \u001b[39m# pragma: no cover\u001b[39;00m\n\u001b[1;32m   1016\u001b[0m     \u001b[39m# caller's responsibility to check for this...\u001b[39;00m\n\u001b[0;32m-> 1017\u001b[0m     \u001b[39mraise\u001b[39;00m \u001b[39mAssertionError\u001b[39;00m(\n\u001b[1;32m   1018\u001b[0m         \u001b[39mf\u001b[39m\u001b[39m\"\u001b[39m\u001b[39m{\u001b[39;00m\u001b[39mlen\u001b[39m(columns)\u001b[39m}\u001b[39;00m\u001b[39m columns passed, passed data had \u001b[39m\u001b[39m\"\u001b[39m\n\u001b[1;32m   1019\u001b[0m         \u001b[39mf\u001b[39m\u001b[39m\"\u001b[39m\u001b[39m{\u001b[39;00m\u001b[39mlen\u001b[39m(content)\u001b[39m}\u001b[39;00m\u001b[39m columns\u001b[39m\u001b[39m\"\u001b[39m\n\u001b[1;32m   1020\u001b[0m     )\n\u001b[1;32m   1021\u001b[0m \u001b[39melif\u001b[39;00m is_mi_list:\n\u001b[1;32m   1022\u001b[0m \n\u001b[1;32m   1023\u001b[0m     \u001b[39m# check if nested list column, length of each sub-list should be equal\u001b[39;00m\n",
      "\u001b[0;31mAssertionError\u001b[0m: 9 columns passed, passed data had 1 columns",
      "\nThe above exception was the direct cause of the following exception:\n",
      "\u001b[0;31mValueError\u001b[0m                                Traceback (most recent call last)",
      "Cell \u001b[0;32mIn[13], line 2\u001b[0m\n\u001b[1;32m      1\u001b[0m columns \u001b[39m=\u001b[39m [\u001b[39m'\u001b[39m\u001b[39mcompany_name\u001b[39m\u001b[39m'\u001b[39m,\u001b[39m'\u001b[39m\u001b[39mreview_star\u001b[39m\u001b[39m'\u001b[39m, \u001b[39m'\u001b[39m\u001b[39mreview_title\u001b[39m\u001b[39m'\u001b[39m, \u001b[39m'\u001b[39m\u001b[39mreviewer_name\u001b[39m\u001b[39m'\u001b[39m, \u001b[39m'\u001b[39m\u001b[39mreview_text\u001b[39m\u001b[39m'\u001b[39m, \u001b[39m'\u001b[39m\u001b[39mexperience_date\u001b[39m\u001b[39m'\u001b[39m, \u001b[39m'\u001b[39m\u001b[39mreview_date\u001b[39m\u001b[39m'\u001b[39m, \u001b[39m'\u001b[39m\u001b[39mreply_date\u001b[39m\u001b[39m'\u001b[39m, \u001b[39m'\u001b[39m\u001b[39mreview_reply_text\u001b[39m\u001b[39m'\u001b[39m]\n\u001b[0;32m----> 2\u001b[0m df_reviews \u001b[39m=\u001b[39m pd\u001b[39m.\u001b[39;49mDataFrame(data\u001b[39m=\u001b[39;49mreviews_data, columns\u001b[39m=\u001b[39;49mcolumns)\n\u001b[1;32m      4\u001b[0m df_reviews\u001b[39m.\u001b[39mhead(\u001b[39m20\u001b[39m)\n",
      "File \u001b[0;32m~/anaconda3/lib/python3.10/site-packages/pandas/core/frame.py:746\u001b[0m, in \u001b[0;36mDataFrame.__init__\u001b[0;34m(self, data, index, columns, dtype, copy)\u001b[0m\n\u001b[1;32m    744\u001b[0m     \u001b[39mif\u001b[39;00m columns \u001b[39mis\u001b[39;00m \u001b[39mnot\u001b[39;00m \u001b[39mNone\u001b[39;00m:\n\u001b[1;32m    745\u001b[0m         columns \u001b[39m=\u001b[39m ensure_index(columns)\n\u001b[0;32m--> 746\u001b[0m     arrays, columns, index \u001b[39m=\u001b[39m nested_data_to_arrays(\n\u001b[1;32m    747\u001b[0m         \u001b[39m# error: Argument 3 to \"nested_data_to_arrays\" has incompatible\u001b[39;49;00m\n\u001b[1;32m    748\u001b[0m         \u001b[39m# type \"Optional[Collection[Any]]\"; expected \"Optional[Index]\"\u001b[39;49;00m\n\u001b[1;32m    749\u001b[0m         data,\n\u001b[1;32m    750\u001b[0m         columns,\n\u001b[1;32m    751\u001b[0m         index,  \u001b[39m# type: ignore[arg-type]\u001b[39;49;00m\n\u001b[1;32m    752\u001b[0m         dtype,\n\u001b[1;32m    753\u001b[0m     )\n\u001b[1;32m    754\u001b[0m     mgr \u001b[39m=\u001b[39m arrays_to_mgr(\n\u001b[1;32m    755\u001b[0m         arrays,\n\u001b[1;32m    756\u001b[0m         columns,\n\u001b[0;32m   (...)\u001b[0m\n\u001b[1;32m    759\u001b[0m         typ\u001b[39m=\u001b[39mmanager,\n\u001b[1;32m    760\u001b[0m     )\n\u001b[1;32m    761\u001b[0m \u001b[39melse\u001b[39;00m:\n",
      "File \u001b[0;32m~/anaconda3/lib/python3.10/site-packages/pandas/core/internals/construction.py:510\u001b[0m, in \u001b[0;36mnested_data_to_arrays\u001b[0;34m(data, columns, index, dtype)\u001b[0m\n\u001b[1;32m    507\u001b[0m \u001b[39mif\u001b[39;00m is_named_tuple(data[\u001b[39m0\u001b[39m]) \u001b[39mand\u001b[39;00m columns \u001b[39mis\u001b[39;00m \u001b[39mNone\u001b[39;00m:\n\u001b[1;32m    508\u001b[0m     columns \u001b[39m=\u001b[39m ensure_index(data[\u001b[39m0\u001b[39m]\u001b[39m.\u001b[39m_fields)\n\u001b[0;32m--> 510\u001b[0m arrays, columns \u001b[39m=\u001b[39m to_arrays(data, columns, dtype\u001b[39m=\u001b[39;49mdtype)\n\u001b[1;32m    511\u001b[0m columns \u001b[39m=\u001b[39m ensure_index(columns)\n\u001b[1;32m    513\u001b[0m \u001b[39mif\u001b[39;00m index \u001b[39mis\u001b[39;00m \u001b[39mNone\u001b[39;00m:\n",
      "File \u001b[0;32m~/anaconda3/lib/python3.10/site-packages/pandas/core/internals/construction.py:875\u001b[0m, in \u001b[0;36mto_arrays\u001b[0;34m(data, columns, dtype)\u001b[0m\n\u001b[1;32m    872\u001b[0m     data \u001b[39m=\u001b[39m [\u001b[39mtuple\u001b[39m(x) \u001b[39mfor\u001b[39;00m x \u001b[39min\u001b[39;00m data]\n\u001b[1;32m    873\u001b[0m     arr \u001b[39m=\u001b[39m _list_to_arrays(data)\n\u001b[0;32m--> 875\u001b[0m content, columns \u001b[39m=\u001b[39m _finalize_columns_and_data(arr, columns, dtype)\n\u001b[1;32m    876\u001b[0m \u001b[39mreturn\u001b[39;00m content, columns\n",
      "File \u001b[0;32m~/anaconda3/lib/python3.10/site-packages/pandas/core/internals/construction.py:972\u001b[0m, in \u001b[0;36m_finalize_columns_and_data\u001b[0;34m(content, columns, dtype)\u001b[0m\n\u001b[1;32m    969\u001b[0m     columns \u001b[39m=\u001b[39m _validate_or_indexify_columns(contents, columns)\n\u001b[1;32m    970\u001b[0m \u001b[39mexcept\u001b[39;00m \u001b[39mAssertionError\u001b[39;00m \u001b[39mas\u001b[39;00m err:\n\u001b[1;32m    971\u001b[0m     \u001b[39m# GH#26429 do not raise user-facing AssertionError\u001b[39;00m\n\u001b[0;32m--> 972\u001b[0m     \u001b[39mraise\u001b[39;00m \u001b[39mValueError\u001b[39;00m(err) \u001b[39mfrom\u001b[39;00m \u001b[39merr\u001b[39;00m\n\u001b[1;32m    974\u001b[0m \u001b[39mif\u001b[39;00m \u001b[39mlen\u001b[39m(contents) \u001b[39mand\u001b[39;00m contents[\u001b[39m0\u001b[39m]\u001b[39m.\u001b[39mdtype \u001b[39m==\u001b[39m np\u001b[39m.\u001b[39mobject_:\n\u001b[1;32m    975\u001b[0m     contents \u001b[39m=\u001b[39m _convert_object_array(contents, dtype\u001b[39m=\u001b[39mdtype)\n",
      "\u001b[0;31mValueError\u001b[0m: 9 columns passed, passed data had 1 columns"
     ]
    }
   ],
   "source": [
    "columns = ['company_name','review_star', 'review_title', 'reviewer_name', 'review_text', 'experience_date', 'review_date', 'reply_date', 'review_reply_text']\n",
    "df_reviews = pd.DataFrame(data=reviews_data, columns=columns)\n",
    "\n",
    "df_reviews.head(20)"
   ]
  },
  {
   "cell_type": "code",
   "execution_count": null,
   "metadata": {},
   "outputs": [],
   "source": [
    "#Establish connection with PostgreSQL using psycopg2\n",
    "\n",
    "import psycopg2\n",
    "import numpy as np\n",
    "import psycopg2.extras as extras\n",
    "\n",
    "#Function to insert values into existing table\n",
    "def execute_values(conn, df, table):\n",
    "  \n",
    "    tuples = [tuple(x) for x in df.to_numpy()]\n",
    "  \n",
    "    col = ','.join(list(df.columns))\n",
    "    # SQL query to execute\n",
    "    query = \"DELETE FROM %s; INSERT INTO %s(%s) VALUES %%s\" % (table, table, col)\n",
    "    \n",
    "    cursor = conn.cursor()\n",
    "    try:\n",
    "        extras.execute_values(cursor, query, tuples)\n",
    "        conn.commit()\n",
    "    except (Exception, psycopg2.DatabaseError) as error:\n",
    "        print(\"Error: %s\" % error)\n",
    "        conn.rollback()\n",
    "        cursor.close()\n",
    "        return 1\n",
    "    print(\"the dataframe is inserted\")\n",
    "    cursor.close()\n",
    "  \n",
    "  \n",
    "conn = psycopg2.connect(\n",
    "    database=\"atm_scraping\", user='postgres', password='postgres', host='127.0.0.1', port='5432'\n",
    ")"
   ]
  },
  {
   "cell_type": "code",
   "execution_count": null,
   "metadata": {},
   "outputs": [
    {
     "name": "stdout",
     "output_type": "stream",
     "text": [
      "the dataframe is inserted\n"
     ]
    }
   ],
   "source": [
    "execute_values(conn, df_reviews, 'reviews')"
   ]
  }
 ],
 "metadata": {
  "kernelspec": {
   "display_name": "base",
   "language": "python",
   "name": "python3"
  },
  "language_info": {
   "codemirror_mode": {
    "name": "ipython",
    "version": 3
   },
   "file_extension": ".py",
   "mimetype": "text/x-python",
   "name": "python",
   "nbconvert_exporter": "python",
   "pygments_lexer": "ipython3",
   "version": "3.10.11"
  },
  "orig_nbformat": 4
 },
 "nbformat": 4,
 "nbformat_minor": 2
}
