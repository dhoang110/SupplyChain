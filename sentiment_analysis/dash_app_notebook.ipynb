{
 "cells": [
  {
   "cell_type": "code",
   "execution_count": 14,
   "metadata": {},
   "outputs": [
    {
     "data": {
      "text/html": [
       "\n",
       "        <iframe\n",
       "            width=\"100%\"\n",
       "            height=\"650\"\n",
       "            src=\"http://127.0.0.1:8050/\"\n",
       "            frameborder=\"0\"\n",
       "            allowfullscreen\n",
       "            \n",
       "        ></iframe>\n",
       "        "
      ],
      "text/plain": [
       "<IPython.lib.display.IFrame at 0x1329d9950>"
      ]
     },
     "metadata": {},
     "output_type": "display_data"
    }
   ],
   "source": [
    "import pandas as pd\n",
    "import dash\n",
    "import dash_core_components as dcc\n",
    "import dash_html_components as html\n",
    "import plotly.express as px\n",
    "from dash.dependencies import Input, Output\n",
    "\n",
    "# Load your CSV data into a DataFrame (replace 'your_file.csv' with the actual file path)\n",
    "df = pd.read_csv('word_analysis.csv')\n",
    "\n",
    "# Get unique company names for dropdown options\n",
    "company_options = [{'label': company, 'value': company} for company in df['Company Name'].unique()]\n",
    "company_options.append({'label': 'All', 'value': 'All'})  # Add \"All\" option\n",
    "\n",
    "# Get the list of word buckets\n",
    "bucket_columns = df.columns[4:]  # Columns containing word bucket counts\n",
    "\n",
    "# Initialize the Dash app\n",
    "app = dash.Dash(__name__)\n",
    "\n",
    "# Define the layout of the app\n",
    "app.layout = html.Div([\n",
    "    dcc.Dropdown(id='company-dropdown', options=company_options, value='All', multi=False),\n",
    "    dcc.Graph(id='sentiment-bar-chart')\n",
    "])\n",
    "\n",
    "# Define color mappings for sentiment labels\n",
    "color_discrete_map = {\n",
    "    'Negative': 'red',\n",
    "    'Neutral': 'blue',\n",
    "    'Positive': 'green'\n",
    "}\n",
    "\n",
    "# Callback to update the sentiment bar chart\n",
    "@app.callback(\n",
    "    Output('sentiment-bar-chart', 'figure'),\n",
    "    [Input('company-dropdown', 'value')]\n",
    ")\n",
    "def update_sentiment_bar_chart(selected_company):\n",
    "    if selected_company == 'All':\n",
    "        filtered_df = df\n",
    "    else:\n",
    "        filtered_df = df[df['Company Name'] == selected_company]\n",
    "    \n",
    "    sentiment_scores = filtered_df.groupby('Sentiment Label')[bucket_columns].sum().T\n",
    "    \n",
    "    fig = px.bar(\n",
    "        sentiment_scores,\n",
    "        x=sentiment_scores.index,\n",
    "        y=sentiment_scores.columns,\n",
    "        title='Sentiment Scores by Word Buckets',\n",
    "        labels={'x': 'Word Bucket', 'y': 'Sentiment Score'},\n",
    "        category_orders={\"x\": bucket_columns},  # Maintain order of word buckets on x-axis\n",
    "        color_discrete_map=color_discrete_map  # Specify color mapping for sentiment labels\n",
    "    )\n",
    "    \n",
    "    return fig\n",
    "\n",
    "if __name__ == '__main__':\n",
    "    app.run_server(debug=True)"
   ]
  }
 ],
 "metadata": {
  "kernelspec": {
   "display_name": "base",
   "language": "python",
   "name": "python3"
  },
  "language_info": {
   "codemirror_mode": {
    "name": "ipython",
    "version": 3
   },
   "file_extension": ".py",
   "mimetype": "text/x-python",
   "name": "python",
   "nbconvert_exporter": "python",
   "pygments_lexer": "ipython3",
   "version": "3.11.3"
  },
  "orig_nbformat": 4
 },
 "nbformat": 4,
 "nbformat_minor": 2
}
