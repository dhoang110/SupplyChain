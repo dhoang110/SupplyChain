{
 "cells": [
  {
   "cell_type": "code",
   "execution_count": 2,
   "metadata": {},
   "outputs": [],
   "source": [
    "import pandas as pd\n",
    "import dash\n",
    "from dash import dcc\n",
    "from dash import html\n",
    "import plotly.express as px \n",
    "from dash.dependencies import Input,Output\n"
   ]
  },
  {
   "cell_type": "code",
   "execution_count": 4,
   "metadata": {},
   "outputs": [
    {
     "data": {
      "text/html": [
       "<div>\n",
       "<style scoped>\n",
       "    .dataframe tbody tr th:only-of-type {\n",
       "        vertical-align: middle;\n",
       "    }\n",
       "\n",
       "    .dataframe tbody tr th {\n",
       "        vertical-align: top;\n",
       "    }\n",
       "\n",
       "    .dataframe thead th {\n",
       "        text-align: right;\n",
       "    }\n",
       "</style>\n",
       "<table border=\"1\" class=\"dataframe\">\n",
       "  <thead>\n",
       "    <tr style=\"text-align: right;\">\n",
       "      <th></th>\n",
       "      <th>Review_ID</th>\n",
       "      <th>Company_ID</th>\n",
       "      <th>Company_name</th>\n",
       "      <th>Review_text</th>\n",
       "      <th>Sentiment_score</th>\n",
       "      <th>Sentiment_label</th>\n",
       "    </tr>\n",
       "  </thead>\n",
       "  <tbody>\n",
       "    <tr>\n",
       "      <th>0</th>\n",
       "      <td>0</td>\n",
       "      <td>1118</td>\n",
       "      <td>PNC Bank</td>\n",
       "      <td>After opening an account my experience has bee...</td>\n",
       "      <td>-0.3400</td>\n",
       "      <td>Negative</td>\n",
       "    </tr>\n",
       "    <tr>\n",
       "      <th>1</th>\n",
       "      <td>4</td>\n",
       "      <td>1118</td>\n",
       "      <td>PNC Bank</td>\n",
       "      <td>I went to get a cashier's check for my parents...</td>\n",
       "      <td>-0.8465</td>\n",
       "      <td>Negative</td>\n",
       "    </tr>\n",
       "    <tr>\n",
       "      <th>2</th>\n",
       "      <td>5</td>\n",
       "      <td>1118</td>\n",
       "      <td>PNC Bank</td>\n",
       "      <td>Taking over 7 days to clear a cashier's check....</td>\n",
       "      <td>0.7881</td>\n",
       "      <td>Positive</td>\n",
       "    </tr>\n",
       "    <tr>\n",
       "      <th>3</th>\n",
       "      <td>7</td>\n",
       "      <td>1118</td>\n",
       "      <td>PNC Bank</td>\n",
       "      <td>i have a car loan with PNC bank and have calle...</td>\n",
       "      <td>-0.4215</td>\n",
       "      <td>Negative</td>\n",
       "    </tr>\n",
       "    <tr>\n",
       "      <th>4</th>\n",
       "      <td>9</td>\n",
       "      <td>1118</td>\n",
       "      <td>PNC Bank</td>\n",
       "      <td>PNC is trash because they send me a letter sta...</td>\n",
       "      <td>-0.1825</td>\n",
       "      <td>Negative</td>\n",
       "    </tr>\n",
       "  </tbody>\n",
       "</table>\n",
       "</div>"
      ],
      "text/plain": [
       "   Review_ID  Company_ID Company_name  \\\n",
       "0          0        1118     PNC Bank   \n",
       "1          4        1118     PNC Bank   \n",
       "2          5        1118     PNC Bank   \n",
       "3          7        1118     PNC Bank   \n",
       "4          9        1118     PNC Bank   \n",
       "\n",
       "                                         Review_text  Sentiment_score  \\\n",
       "0  After opening an account my experience has bee...          -0.3400   \n",
       "1  I went to get a cashier's check for my parents...          -0.8465   \n",
       "2  Taking over 7 days to clear a cashier's check....           0.7881   \n",
       "3  i have a car loan with PNC bank and have calle...          -0.4215   \n",
       "4  PNC is trash because they send me a letter sta...          -0.1825   \n",
       "\n",
       "  Sentiment_label  \n",
       "0        Negative  \n",
       "1        Negative  \n",
       "2        Positive  \n",
       "3        Negative  \n",
       "4        Negative  "
      ]
     },
     "execution_count": 4,
     "metadata": {},
     "output_type": "execute_result"
    }
   ],
   "source": [
    "\n",
    "df = pd.read_csv(\"all_reviews_sentiments.csv\")\n",
    "df.head()"
   ]
  },
  {
   "cell_type": "code",
   "execution_count": 10,
   "metadata": {},
   "outputs": [
    {
     "data": {
      "text/plain": [
       "['Liberty First Credit Union',\n",
       " 'PNC Bank',\n",
       " 'Meriwest Credit Union',\n",
       " 'NorthOne',\n",
       " 'Coin Cloud',\n",
       " 'Cash Express',\n",
       " 'cryptobaseatm.com',\n",
       " 'Heritage Valley Federal Credit Union',\n",
       " 'ASDFTEST',\n",
       " 'Asicminertech',\n",
       " 'Asic Miners Rig',\n",
       " 'The Payment HQ',\n",
       " 'Evergreen Credit Union',\n",
       " 'Kryptominerstech',\n",
       " 'WPC Merchant Services & Credit Card Processing',\n",
       " 'Swadesh',\n",
       " 'Coinhub Bitcoin ATM']"
      ]
     },
     "execution_count": 10,
     "metadata": {},
     "output_type": "execute_result"
    }
   ],
   "source": [
    "dropdown_name = list(set(df['Company_name']))\n",
    "dropdown_name\n"
   ]
  },
  {
   "cell_type": "code",
   "execution_count": 13,
   "metadata": {},
   "outputs": [
    {
     "data": {
      "text/plain": [
       "0.9946"
      ]
     },
     "execution_count": 13,
     "metadata": {},
     "output_type": "execute_result"
    }
   ],
   "source": [
    "df['Sentiment_score'].max()"
   ]
  },
  {
   "cell_type": "code",
   "execution_count": null,
   "metadata": {},
   "outputs": [],
   "source": [
    "import dash\n",
    "import dash_core_components as dcc\n",
    "import dash_html_components as html\n",
    "import pandas as pd\n",
    "import plotly.express as px\n",
    "\n",
    "\n",
    "# Calculate the count of reviews for each sentiment label\n",
    "sentiment_counts = data_all[\"Sentiment Label\"].value_counts().reset_index()\n",
    "sentiment_counts.columns = [\"Sentiment Label\", \"Review Count\"]\n",
    "\n",
    "app = dash.Dash(__name__)\n",
    "\n",
    "# Create the scatter plot figure using Plotly Express\n",
    "scatter_fig = px.scatter(\n",
    "    sentiment_counts, x=\"Sentiment Label\", y=\"Review Count\", c"
   ]
  }
 ],
 "metadata": {
  "kernelspec": {
   "display_name": "base",
   "language": "python",
   "name": "python3"
  },
  "language_info": {
   "codemirror_mode": {
    "name": "ipython",
    "version": 3
   },
   "file_extension": ".py",
   "mimetype": "text/x-python",
   "name": "python",
   "nbconvert_exporter": "python",
   "pygments_lexer": "ipython3",
   "version": "3.10.11"
  },
  "orig_nbformat": 4
 },
 "nbformat": 4,
 "nbformat_minor": 2
}
