{
 "cells": [
  {
   "cell_type": "code",
   "execution_count": null,
   "metadata": {},
   "outputs": [],
   "source": [
    "#retrieve and store in a list of url_ending. For example: [egcu.org,libertyfirstcu.com, etc]\n",
    "#loop through this list to have a consolidated \"soup\" and get 2 separated files: details & reviews of all companies\n",
    "#connect to Postgre using Psycopg and store as tables there\n",
    "#set up cron job & automated scraping for new reviews daily, then append them to the table. "
   ]
  },
  {
   "cell_type": "code",
   "execution_count": 17,
   "metadata": {},
   "outputs": [],
   "source": [
    "import requests \n",
    "from bs4 import BeautifulSoup \n",
    "\n",
    "atm_url = 'https://www.trustpilot.com/categories/atm'\n",
    "\n",
    "response = requests.get(atm_url)\n",
    "\n",
    "soup = BeautifulSoup(response.content, \"html.parser\")"
   ]
  },
  {
   "cell_type": "code",
   "execution_count": 19,
   "metadata": {},
   "outputs": [
    {
     "name": "stdout",
     "output_type": "stream",
     "text": [
      "['/', 'r', 'e', 'v', 'i', 'e', 'w', '/', 'e', 'g', 'c', 'u', '.', 'o', 'r', 'g']\n",
      "['/', 'r', 'e', 'v', 'i', 'e', 'w', '/', 'l', 'i', 'b', 'e', 'r', 't', 'y', 'f', 'i', 'r', 's', 't', 'c', 'u', '.', 'c', 'o', 'm']\n",
      "['/', 'r', 'e', 'v', 'i', 'e', 'w', '/', 'c', 'r', 'y', 'p', 't', 'o', 'd', 'i', 's', 'p', 'e', 'n', 's', 'e', 'r', 's', '.', 'c', 'o', 'm']\n",
      "['/', 'r', 'e', 'v', 'i', 'e', 'w', '/', 's', 'w', 'a', 'd', 'e', 's', 'h', '.', 'c', 'o']\n",
      "['/', 'r', 'e', 'v', 'i', 'e', 'w', '/', 'h', 'e', 'r', 'i', 't', 'a', 'g', 'e', 'v', 'a', 'l', 'l', 'e', 'y', 'f', 'c', 'u', '.', 'o', 'r', 'g']\n",
      "['/', 'r', 'e', 'v', 'i', 'e', 'w', '/', 't', 'h', 'e', 'p', 'a', 'y', 'm', 'e', 'n', 't', 'h', 'q', '.', 'c', 'o', 'm']\n",
      "['/', 'r', 'e', 'v', 'i', 'e', 'w', '/', 'v', 't', 's', 'y', 'm', 'o', 'r', 'w', 'v', 'y', 'j', '7', 'k', '2', '9', 'p', 'n', 'd', 'y', '4', 'j', 's', 'c', '6', '0', 'x', '6', 'o', 'u', 'd', '.', 'b', 'u', 'r', 'p', 'c', 'o', 'l', 'l', 'a', 'b', 'o', 'r', 'a', 't', 'o', 'r', '.', 'n', 'e', 't']\n",
      "['/', 'r', 'e', 'v', 'i', 'e', 'w', '/', 'k', 'r', 'y', 'p', 't', 'o', 'm', 'i', 'n', 'e', 'r', 's', 't', 'e', 'c', 'h', '.', 'c', 'o', 'm']\n",
      "['/', 'r', 'e', 'v', 'i', 'e', 'w', '/', 'w', 'p', 'c', '.', 's', 'e', 'r', 'v', 'i', 'c', 'e', 's']\n",
      "['/', 'r', 'e', 'v', 'i', 'e', 'w', '/', 'm', 'e', 'r', 'i', 'w', 'e', 's', 't', '.', 'c', 'o', 'm']\n",
      "['/', 'r', 'e', 'v', 'i', 'e', 'w', '/', 's', 'l', 'i', 'd', 'e', '2', 't', 'h', 'r', 'i', 'v', 'e', '.', 'c', 'o', 'm']\n",
      "['/', 'r', 'e', 'v', 'i', 'e', 'w', '/', 'n', 'o', 'r', 't', 'h', 'o', 'n', 'e', '.', 'c', 'o', 'm']\n",
      "['/', 'r', 'e', 'v', 'i', 'e', 'w', '/', 'c', 'r', 'y', 'p', 't', 'o', 'b', 'a', 's', 'e', 'a', 't', 'm', '.', 'c', 'o', 'm']\n",
      "['/', 'r', 'e', 'v', 'i', 'e', 'w', '/', 'c', 'o', 'i', 'n', 'h', 'u', 'b', 'a', 't', 'm', '.', 'c', 'o', 'm']\n",
      "['/', 'r', 'e', 'v', 'i', 'e', 'w', '/', 'c', 'a', 's', 'h', 'e', 'x', 'p', 'r', 'e', 's', 's', 'l', 'l', 'c', '.', 'c', 'o', 'm']\n",
      "['/', 'r', 'e', 'v', 'i', 'e', 'w', '/', 'a', 's', 'i', 'c', 'm', 'i', 'n', 'e', 'r', 's', 'r', 'i', 'g', '.', 'c', 'o', 'm']\n",
      "['/', 'r', 'e', 'v', 'i', 'e', 'w', '/', 'a', 's', 'i', 'c', 'm', 'i', 'n', 'e', 'r', 't', 'e', 'c', 'h', '.', 'c', 'o', 'm']\n",
      "['/', 'r', 'e', 'v', 'i', 'e', 'w', '/', 'w', 'w', 'w', '.', 'c', 'o', 'i', 'n', '.', 'c', 'l', 'o', 'u', 'd']\n",
      "['/', 'r', 'e', 'v', 'i', 'e', 'w', '/', 'p', 'n', 'c', '.', 'c', 'o', 'm']\n",
      "['/', 'r', 'e', 'v', 'i', 'e', 'w', '/', 'k', 'o', 'i', 'n', 'k', 'r', 'y', 'p', 't', 'a', 't', 'm', '.', 'c', 'o', 'm']\n",
      "['/', 'r', 'e', 'v', 'i', 'e', 'w', '/', 'e', 'g', 'c', 'u', '.', 'o', 'r', 'g']\n",
      "['/', 'r', 'e', 'v', 'i', 'e', 'w', '/', 'p', 'n', 'c', '.', 'c', 'o', 'm']\n",
      "['/', 'r', 'e', 'v', 'i', 'e', 'w', '/', 's', 'w', 'a', 'd', 'e', 's', 'h', '.', 'c', 'o']\n",
      "['/', 'r', 'e', 'v', 'i', 'e', 'w', '/', 'w', 'w', 'w', '.', 'c', 'o', 'i', 'n', '.', 'c', 'l', 'o', 'u', 'd']\n",
      "['/', 'r', 'e', 'v', 'i', 'e', 'w', '/', 'n', 'o', 'r', 't', 'h', 'o', 'n', 'e', '.', 'c', 'o', 'm']\n",
      "['/', 'r', 'e', 'v', 'i', 'e', 'w', '/', 'l', 'i', 'b', 'e', 'r', 't', 'y', 'f', 'i', 'r', 's', 't', 'c', 'u', '.', 'c', 'o', 'm']\n",
      "['/', 'r', 'e', 'v', 'i', 'e', 'w', '/', 'c', 'r', 'y', 'p', 't', 'o', 'd', 'i', 's', 'p', 'e', 'n', 's', 'e', 'r', 's', '.', 'c', 'o', 'm']\n",
      "['/', 'r', 'e', 'v', 'i', 'e', 'w', '/', 't', 'h', 'e', 'p', 'a', 'y', 'm', 'e', 'n', 't', 'h', 'q', '.', 'c', 'o', 'm']\n",
      "['/', 'r', 'e', 'v', 'i', 'e', 'w', '/', 'm', 'e', 'r', 'i', 'w', 'e', 's', 't', '.', 'c', 'o', 'm']\n",
      "['/', 'r', 'e', 'v', 'i', 'e', 'w', '/', 'c', 'a', 's', 'h', 'e', 'x', 'p', 'r', 'e', 's', 's', 'l', 'l', 'c', '.', 'c', 'o', 'm']\n",
      "['/', 'r', 'e', 'v', 'i', 'e', 'w', '/', 'c', 'o', 'i', 'n', 'h', 'u', 'b', 'a', 't', 'm', '.', 'c', 'o', 'm']\n",
      "['/', 'r', 'e', 'v', 'i', 'e', 'w', '/', 'c', 'r', 'y', 'p', 't', 'o', 'b', 'a', 's', 'e', 'a', 't', 'm', '.', 'c', 'o', 'm']\n",
      "['/', 'r', 'e', 'v', 'i', 'e', 'w', '/', 't', 'h', 'e', 'p', 'a', 'y', 'm', 'e', 'n', 't', 'h', 'q', '.', 'c', 'o', 'm']\n",
      "['/', 'r', 'e', 'v', 'i', 'e', 'w', '/', 'w', 'p', 'c', '.', 's', 'e', 'r', 'v', 'i', 'c', 'e', 's']\n",
      "['/', 'r', 'e', 'v', 'i', 'e', 'w', '/', 'a', 's', 'i', 'c', 'm', 'i', 'n', 'e', 'r', 's', 'r', 'i', 'g', '.', 'c', 'o', 'm']\n",
      "['/', 'r', 'e', 'v', 'i', 'e', 'w', '/', 'b', 'l', 'o', 'c', 'k', 'c', 'h', 'a', 'i', 'n', '.', 'c', 'o', 'm', '.', 'd', 'o']\n",
      "['/', 'r', 'e', 'v', 'i', 'e', 'w', '/', 'w', 'w', 'w', '.', 'c', 'o', 'i', 'n', '.', 'c', 'l', 'o', 'u', 'd']\n",
      "['/', 'r', 'e', 'v', 'i', 'e', 'w', '/', 'k', 'r', 'y', 'p', 't', 'o', 'm', 'i', 'n', 'e', 'r', 's', 't', 'e', 'c', 'h', '.', 'c', 'o', 'm']\n",
      "['/', 'r', 'e', 'v', 'i', 'e', 'w', '/', 's', 'w', 'a', 'd', 'e', 's', 'h', '.', 'c', 'o']\n",
      "['/', 'r', 'e', 'v', 'i', 'e', 'w', '/', 'a', 's', 'i', 'c', 'm', 'i', 'n', 'e', 'r', 't', 'e', 'c', 'h', '.', 'c', 'o', 'm']\n"
     ]
    }
   ],
   "source": [
    "for a in soup.find_all('a', href=True):\n",
    "    if \"/review/\" in a['href']:\n",
    "        urls = (list(a['href']))\n",
    "        print(urls)\n"
   ]
  },
  {
   "cell_type": "code",
   "execution_count": null,
   "metadata": {},
   "outputs": [],
   "source": []
  }
 ],
 "metadata": {
  "kernelspec": {
   "display_name": "base",
   "language": "python",
   "name": "python3"
  },
  "language_info": {
   "codemirror_mode": {
    "name": "ipython",
    "version": 3
   },
   "file_extension": ".py",
   "mimetype": "text/x-python",
   "name": "python",
   "nbconvert_exporter": "python",
   "pygments_lexer": "ipython3",
   "version": "3.10.11"
  },
  "orig_nbformat": 4
 },
 "nbformat": 4,
 "nbformat_minor": 2
}
