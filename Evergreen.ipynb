{
 "cells": [
  {
   "cell_type": "code",
   "execution_count": 27,
   "metadata": {},
   "outputs": [],
   "source": [
    "#Company Details and Review Details\n",
    "\n",
    "#Company details:\n",
    "#   name, number of reviews, star names and distrobution of star reviews\n",
    "\n",
    "#Reviews:\n",
    "#   review star, title of the review, reviewer name, review text, experience date, review date, reply date, reply text\n"
   ]
  },
  {
   "cell_type": "code",
   "execution_count": 28,
   "metadata": {},
   "outputs": [],
   "source": [
    "import requests \n",
    "from bs4 import BeautifulSoup \n",
    "from bs4 import UnicodeDammit\n",
    "\n",
    "evergreen_url = 'https://www.trustpilot.com/review/egcu.org'\n",
    "\n",
    "response = requests.get(evergreen_url)\n",
    "\n",
    "soup = BeautifulSoup(response.content, \"html.parser\")"
   ]
  },
  {
   "cell_type": "code",
   "execution_count": null,
   "metadata": {},
   "outputs": [],
   "source": [
    "#Company details\n",
    "\n",
    "company_name = soup.find('span', attrs = {'class': \"typography_display-s__qOjh6 typography_appearance-default__AAY17 title_displayName__TtDDM\"})\n",
    "\n",
    "nr_of_reviews = soup.find('p', attrs = {'class': \"typography_body-l__KUYFJ typography_appearance-default__AAY17\"})\n",
    "\n",
    "star_names = soup.findAll('p', attrs = {'class': \"typography_body-m__xgxZ_ typography_appearance-default__AAY17 styles_cell__qnPHy styles_labelCell__vLP9S\"})\n",
    "\n",
    "stars = soup.findAll('p', attrs = {'class': \"typography_body-m__xgxZ_ typography_appearance-default__AAY17 styles_cell__qnPHy styles_percentageCell__cHAnb\"})\n",
    "print(stars)"
   ]
  },
  {
   "cell_type": "code",
   "execution_count": null,
   "metadata": {},
   "outputs": [],
   "source": [
    "#Reviews:\n",
    "\n",
    "review_star = soup.find_all('div', attrs = {'class': \"styles_reviewHeader__iU9Px\"})\n",
    "\n",
    "review_title = soup.find_all('h2', attrs = {'class': \"typography_heading-s__f7029 typography_appearance-default__AAY17\"})\n",
    "\n",
    "reviewer_name = soup.find_all('span', attrs = {'class': \"typography_heading-xxs__QKBS8 typography_appearance-default__AAY17\"})\n",
    "\n",
    "review_text = soup.find_all('p', attrs = {'class': \"typography_body-l__KUYFJ typography_appearance-default__AAY17 typography_color-black__5LYEn\"})\n",
    "\n",
    "experience_date = soup.find_all('p', attrs = {'class': \"typography_body-m__xgxZ_ typography_appearance-default__AAY17\"})\n",
    "\n",
    "#time element gives us details review date and reply date\n",
    "time_element = soup.find_all('time')\n",
    "print(time_element)\n",
    "\n",
    "review_reply_text = soup.find_all('p', attrs = {'class': \"typography_body-m__xgxZ_ typography_appearance-default__AAY17 styles_message__shHhX\"})\n"
   ]
  }
 ],
 "metadata": {
  "kernelspec": {
   "display_name": "base",
   "language": "python",
   "name": "python3"
  },
  "language_info": {
   "codemirror_mode": {
    "name": "ipython",
    "version": 3
   },
   "file_extension": ".py",
   "mimetype": "text/x-python",
   "name": "python",
   "nbconvert_exporter": "python",
   "pygments_lexer": "ipython3",
   "version": "3.10.11"
  },
  "orig_nbformat": 4
 },
 "nbformat": 4,
 "nbformat_minor": 2
}
