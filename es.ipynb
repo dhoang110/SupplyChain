{
 "cells": [
  {
   "cell_type": "code",
   "execution_count": null,
   "metadata": {},
   "outputs": [],
   "source": [
    "import pandas as pd\n",
    "df = pd.read_csv('reviews_withallids.csv')\n",
    "df\n",
    "import elasticsearch as helpers\n",
    "import json\n",
    "import warnings\n",
    "import csv\n",
    "warnings.filterwarnings(\"ignore\")"
   ]
  },
  {
   "cell_type": "code",
   "execution_count": null,
   "metadata": {},
   "outputs": [],
   "source": [
    "connections = \n",
    "\n",
    "es_client = connections.create_connection(hosts=['http://localhost:9200/'])\n",
    "\n",
    "with open('review_withallids.csv', encoding='utf-8') as f:\n",
    "    reader= csv.DictReader(f)\n",
    "    helpers.bulk(es_client, reader, index='review_id')"
   ]
  },
  {
   "cell_type": "code",
   "execution_count": null,
   "metadata": {},
   "outputs": [],
   "source": [
    "template = es_client.indices.get_template()\n",
    "\n",
    "with open(\"./eval/{}.json\".format(\"index_template\"), \"w\") as f:\n",
    "  json.dump(dict(template), f, indent=2)"
   ]
  }
 ],
 "metadata": {
  "language_info": {
   "name": "python"
  },
  "orig_nbformat": 4
 },
 "nbformat": 4,
 "nbformat_minor": 2
}
