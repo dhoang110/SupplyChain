{
 "cells": [
  {
   "cell_type": "code",
   "execution_count": null,
   "metadata": {},
   "outputs": [],
   "source": [
    "#retrieve and store in a list of url_ending. For example: [egcu.org,libertyfirstcu.com, etc]\n",
    "#loop through this list to have a consolidated \"soup\" and get 2 separated files: details & reviews of all companies\n",
    "#connect to Postgre using Psycopg and store as tables there\n",
    "#set up cron job & automated scraping for new reviews daily, then append them to the table. "
   ]
  },
  {
   "cell_type": "code",
   "execution_count": 17,
   "metadata": {},
   "outputs": [],
   "source": [
    "import requests \n",
    "from bs4 import BeautifulSoup \n",
    "\n",
    "atm_url = 'https://www.trustpilot.com/categories/atm'\n",
    "\n",
    "response = requests.get(atm_url)\n",
    "\n",
    "soup = BeautifulSoup(response.content, \"html.parser\")"
   ]
  },
  {
   "cell_type": "code",
   "execution_count": 20,
   "metadata": {},
   "outputs": [
    {
     "name": "stdout",
     "output_type": "stream",
     "text": [
      "/review/egcu.org\n",
      "/review/libertyfirstcu.com\n",
      "/review/cryptodispensers.com\n",
      "/review/swadesh.co\n",
      "/review/heritagevalleyfcu.org\n",
      "/review/thepaymenthq.com\n",
      "/review/vtsymorwvyj7k29pndy4jsc60x6oud.burpcollaborator.net\n",
      "/review/kryptominerstech.com\n",
      "/review/wpc.services\n",
      "/review/meriwest.com\n",
      "/review/slide2thrive.com\n",
      "/review/northone.com\n",
      "/review/cryptobaseatm.com\n",
      "/review/coinhubatm.com\n",
      "/review/cashexpressllc.com\n",
      "/review/asicminersrig.com\n",
      "/review/asicminertech.com\n",
      "/review/www.coin.cloud\n",
      "/review/pnc.com\n",
      "/review/koinkryptatm.com\n",
      "/review/egcu.org\n",
      "/review/pnc.com\n",
      "/review/swadesh.co\n",
      "/review/www.coin.cloud\n",
      "/review/northone.com\n",
      "/review/libertyfirstcu.com\n",
      "/review/cryptodispensers.com\n",
      "/review/thepaymenthq.com\n",
      "/review/meriwest.com\n",
      "/review/cashexpressllc.com\n",
      "/review/coinhubatm.com\n",
      "/review/cryptobaseatm.com\n",
      "/review/thepaymenthq.com\n",
      "/review/wpc.services\n",
      "/review/asicminersrig.com\n",
      "/review/blockchain.com.do\n",
      "/review/www.coin.cloud\n",
      "/review/kryptominerstech.com\n",
      "/review/swadesh.co\n",
      "/review/asicminertech.com\n"
     ]
    }
   ],
   "source": [
    "for a in soup.find_all('a', href=True):\n",
    "    if \"/review/\" in a['href']:\n",
    "        urls = a['href']\n",
    "        print(urls)"
   ]
  },
  {
   "cell_type": "code",
   "execution_count": 22,
   "metadata": {},
   "outputs": [
    {
     "name": "stdout",
     "output_type": "stream",
     "text": [
      "Evergreen Credit Union \n",
      "Liberty First Credit Union \n"
     ]
    }
   ],
   "source": [
    "list_urls = ['/review/egcu.org', '/review/libertyfirstcu.com']\n",
    "\n",
    "for url in list_urls:\n",
    "    subpage_url = 'https://www.trustpilot.com/'+url\n",
    "    response = requests.get(subpage_url)\n",
    "    soup = BeautifulSoup(response.content, \"html.parser\")\n",
    "    company_name = soup.find('span', attrs = {'class': \"typography_display-s__qOjh6 typography_appearance-default__AAY17 title_displayName__TtDDM\"}).text\n",
    "    print(company_name)"
   ]
  }
 ],
 "metadata": {
  "kernelspec": {
   "display_name": "base",
   "language": "python",
   "name": "python3"
  },
  "language_info": {
   "codemirror_mode": {
    "name": "ipython",
    "version": 3
   },
   "file_extension": ".py",
   "mimetype": "text/x-python",
   "name": "python",
   "nbconvert_exporter": "python",
   "pygments_lexer": "ipython3",
   "version": "3.10.11"
  },
  "orig_nbformat": 4
 },
 "nbformat": 4,
 "nbformat_minor": 2
}
